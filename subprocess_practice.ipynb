{
 "metadata": {
  "language_info": {
   "codemirror_mode": {
    "name": "ipython",
    "version": 3
   },
   "file_extension": ".py",
   "mimetype": "text/x-python",
   "name": "python",
   "nbconvert_exporter": "python",
   "pygments_lexer": "ipython3",
   "version": "3.7.4"
  },
  "orig_nbformat": 2,
  "kernelspec": {
   "name": "python374jvsc74a57bd00b15b737317ee57d023fd1135e68b8999dc64b0fb76512e8c43c46da68401b6e",
   "display_name": "Python 3.7.4 32-bit"
  },
  "metadata": {
   "interpreter": {
    "hash": "0b15b737317ee57d023fd1135e68b8999dc64b0fb76512e8c43c46da68401b6e"
   }
  }
 },
 "nbformat": 4,
 "nbformat_minor": 2,
 "cells": [
  {
   "cell_type": "code",
   "execution_count": null,
   "metadata": {},
   "outputs": [],
   "source": [
    "# some older way to what is presnted below - like os.system itp\n",
    "\n"
   ]
  },
  {
   "cell_type": "code",
   "execution_count": null,
   "metadata": {},
   "outputs": [],
   "source": [
    "# os.SystemError\n",
    "\n"
   ]
  },
  {
   "cell_type": "code",
   "execution_count": 1,
   "metadata": {},
   "outputs": [
    {
     "output_type": "error",
     "ename": "FileNotFoundError",
     "evalue": "[WinError 2] The system cannot find the file specified",
     "traceback": [
      "\u001b[1;31m---------------------------------------------------------------------------\u001b[0m",
      "\u001b[1;31mFileNotFoundError\u001b[0m                         Traceback (most recent call last)",
      "\u001b[1;32m<ipython-input-1-5853b3b1a77f>\u001b[0m in \u001b[0;36m<module>\u001b[1;34m\u001b[0m\n\u001b[0;32m      9\u001b[0m \u001b[1;32mimport\u001b[0m \u001b[0msubprocess\u001b[0m\u001b[1;33m\u001b[0m\u001b[1;33m\u001b[0m\u001b[0m\n\u001b[0;32m     10\u001b[0m \u001b[1;33m\u001b[0m\u001b[0m\n\u001b[1;32m---> 11\u001b[1;33m \u001b[0ms\u001b[0m \u001b[1;33m=\u001b[0m \u001b[0msubprocess\u001b[0m\u001b[1;33m.\u001b[0m\u001b[0mrun\u001b[0m\u001b[1;33m(\u001b[0m\u001b[1;33m[\u001b[0m\u001b[1;34m'ls'\u001b[0m\u001b[1;33m,\u001b[0m \u001b[1;34m'-la'\u001b[0m\u001b[1;33m]\u001b[0m\u001b[1;33m)\u001b[0m\u001b[1;33m\u001b[0m\u001b[1;33m\u001b[0m\u001b[0m\n\u001b[0m\u001b[0;32m     12\u001b[0m \u001b[1;33m\u001b[0m\u001b[0m\n\u001b[0;32m     13\u001b[0m \u001b[0mprint\u001b[0m\u001b[1;33m(\u001b[0m\u001b[0ms\u001b[0m\u001b[1;33m)\u001b[0m\u001b[1;33m\u001b[0m\u001b[1;33m\u001b[0m\u001b[0m\n",
      "\u001b[1;32m~\\AppData\\Local\\Programs\\Python\\Python37-32\\lib\\subprocess.py\u001b[0m in \u001b[0;36mrun\u001b[1;34m(input, capture_output, timeout, check, *popenargs, **kwargs)\u001b[0m\n\u001b[0;32m    470\u001b[0m         \u001b[0mkwargs\u001b[0m\u001b[1;33m[\u001b[0m\u001b[1;34m'stderr'\u001b[0m\u001b[1;33m]\u001b[0m \u001b[1;33m=\u001b[0m \u001b[0mPIPE\u001b[0m\u001b[1;33m\u001b[0m\u001b[1;33m\u001b[0m\u001b[0m\n\u001b[0;32m    471\u001b[0m \u001b[1;33m\u001b[0m\u001b[0m\n\u001b[1;32m--> 472\u001b[1;33m     \u001b[1;32mwith\u001b[0m \u001b[0mPopen\u001b[0m\u001b[1;33m(\u001b[0m\u001b[1;33m*\u001b[0m\u001b[0mpopenargs\u001b[0m\u001b[1;33m,\u001b[0m \u001b[1;33m**\u001b[0m\u001b[0mkwargs\u001b[0m\u001b[1;33m)\u001b[0m \u001b[1;32mas\u001b[0m \u001b[0mprocess\u001b[0m\u001b[1;33m:\u001b[0m\u001b[1;33m\u001b[0m\u001b[1;33m\u001b[0m\u001b[0m\n\u001b[0m\u001b[0;32m    473\u001b[0m         \u001b[1;32mtry\u001b[0m\u001b[1;33m:\u001b[0m\u001b[1;33m\u001b[0m\u001b[1;33m\u001b[0m\u001b[0m\n\u001b[0;32m    474\u001b[0m             \u001b[0mstdout\u001b[0m\u001b[1;33m,\u001b[0m \u001b[0mstderr\u001b[0m \u001b[1;33m=\u001b[0m \u001b[0mprocess\u001b[0m\u001b[1;33m.\u001b[0m\u001b[0mcommunicate\u001b[0m\u001b[1;33m(\u001b[0m\u001b[0minput\u001b[0m\u001b[1;33m,\u001b[0m \u001b[0mtimeout\u001b[0m\u001b[1;33m=\u001b[0m\u001b[0mtimeout\u001b[0m\u001b[1;33m)\u001b[0m\u001b[1;33m\u001b[0m\u001b[1;33m\u001b[0m\u001b[0m\n",
      "\u001b[1;32m~\\AppData\\Local\\Programs\\Python\\Python37-32\\lib\\subprocess.py\u001b[0m in \u001b[0;36m__init__\u001b[1;34m(self, args, bufsize, executable, stdin, stdout, stderr, preexec_fn, close_fds, shell, cwd, env, universal_newlines, startupinfo, creationflags, restore_signals, start_new_session, pass_fds, encoding, errors, text)\u001b[0m\n\u001b[0;32m    773\u001b[0m                                 \u001b[0mc2pread\u001b[0m\u001b[1;33m,\u001b[0m \u001b[0mc2pwrite\u001b[0m\u001b[1;33m,\u001b[0m\u001b[1;33m\u001b[0m\u001b[1;33m\u001b[0m\u001b[0m\n\u001b[0;32m    774\u001b[0m                                 \u001b[0merrread\u001b[0m\u001b[1;33m,\u001b[0m \u001b[0merrwrite\u001b[0m\u001b[1;33m,\u001b[0m\u001b[1;33m\u001b[0m\u001b[1;33m\u001b[0m\u001b[0m\n\u001b[1;32m--> 775\u001b[1;33m                                 restore_signals, start_new_session)\n\u001b[0m\u001b[0;32m    776\u001b[0m         \u001b[1;32mexcept\u001b[0m\u001b[1;33m:\u001b[0m\u001b[1;33m\u001b[0m\u001b[1;33m\u001b[0m\u001b[0m\n\u001b[0;32m    777\u001b[0m             \u001b[1;31m# Cleanup if the child failed starting.\u001b[0m\u001b[1;33m\u001b[0m\u001b[1;33m\u001b[0m\u001b[1;33m\u001b[0m\u001b[0m\n",
      "\u001b[1;32m~\\AppData\\Local\\Programs\\Python\\Python37-32\\lib\\subprocess.py\u001b[0m in \u001b[0;36m_execute_child\u001b[1;34m(self, args, executable, preexec_fn, close_fds, pass_fds, cwd, env, startupinfo, creationflags, shell, p2cread, p2cwrite, c2pread, c2pwrite, errread, errwrite, unused_restore_signals, unused_start_new_session)\u001b[0m\n\u001b[0;32m   1176\u001b[0m                                          \u001b[0menv\u001b[0m\u001b[1;33m,\u001b[0m\u001b[1;33m\u001b[0m\u001b[1;33m\u001b[0m\u001b[0m\n\u001b[0;32m   1177\u001b[0m                                          \u001b[0mos\u001b[0m\u001b[1;33m.\u001b[0m\u001b[0mfspath\u001b[0m\u001b[1;33m(\u001b[0m\u001b[0mcwd\u001b[0m\u001b[1;33m)\u001b[0m \u001b[1;32mif\u001b[0m \u001b[0mcwd\u001b[0m \u001b[1;32mis\u001b[0m \u001b[1;32mnot\u001b[0m \u001b[1;32mNone\u001b[0m \u001b[1;32melse\u001b[0m \u001b[1;32mNone\u001b[0m\u001b[1;33m,\u001b[0m\u001b[1;33m\u001b[0m\u001b[1;33m\u001b[0m\u001b[0m\n\u001b[1;32m-> 1178\u001b[1;33m                                          startupinfo)\n\u001b[0m\u001b[0;32m   1179\u001b[0m             \u001b[1;32mfinally\u001b[0m\u001b[1;33m:\u001b[0m\u001b[1;33m\u001b[0m\u001b[1;33m\u001b[0m\u001b[0m\n\u001b[0;32m   1180\u001b[0m                 \u001b[1;31m# Child is launched. Close the parent's copy of those pipe\u001b[0m\u001b[1;33m\u001b[0m\u001b[1;33m\u001b[0m\u001b[1;33m\u001b[0m\u001b[0m\n",
      "\u001b[1;31mFileNotFoundError\u001b[0m: [WinError 2] The system cannot find the file specified"
     ]
    }
   ],
   "source": [
    "# this notebook is about subprocess library \n",
    "# original docs - https://docs.python.org/3/library/subprocess.html\n",
    "# tutorials : - https://www.youtube.com/watch?v=2Fp1N6dof0Y\n",
    "#             - https://pythonspot.com/python-subprocess/\n",
    "#      ****   - https://www.youtube.com/watch?v=IIiKVaxHCX0      \n",
    "\n",
    "\n",
    "\n",
    "import subprocess\n",
    "\n",
    "s = subprocess.run(['ls', '-la'])\n",
    "\n",
    "print(s)\n",
    "\n"
   ]
  },
  {
   "cell_type": "code",
   "execution_count": 2,
   "metadata": {},
   "outputs": [
    {
     "output_type": "stream",
     "name": "stdout",
     "text": [
      "b'/home/marty/Desktop/VSCodeGitRepos/CLI_Project1\\n'\n"
     ]
    }
   ],
   "source": [
    "p1 = subprocess.run(['pwd'], capture_output=True)\n",
    "\n",
    "print(p1.stdout)\n"
   ]
  },
  {
   "cell_type": "code",
   "execution_count": 3,
   "metadata": {},
   "outputs": [
    {
     "output_type": "stream",
     "name": "stdout",
     "text": [
      "b'total 56\\ndrwxrwxr-x 10 marty marty 4096 Apr 29 06:54 .\\ndrwxrwxr-x  8 marty marty 4096 Mar 27 18:16 ..\\ndrwxrwxr-x  2 marty marty 4096 Apr 23 19:40 basics\\ndrwxrwxr-x  4 marty marty 4096 Apr  3 15:06 cli_2\\ndrwxrwxr-x  3 marty marty 4096 Apr 17 10:36 cli_3\\ndrwxrwxr-x  2 marty marty 4096 Apr 25 17:48 Click_Tutorial\\ndrwxrwxr-x  8 marty marty 4096 Apr 25 18:12 .git\\ndrwxrwxr-x  2 marty marty 4096 Apr 29 06:54 .ipynb_checkpoints\\ndrwxrwxr-x  2 marty marty 4096 Mar 26 11:22 No1\\n-rw-rw-r--  1 marty marty  492 Mar 26 13:02 output.txt\\ndrwxrwxr-x  2 marty marty 4096 Mar 26 11:22 SubprocessModule\\n-rw-rw-r--  1 marty marty 6834 Apr 22 09:31 subprocess_practice.ipynb\\n-rw-rw-r--  1 marty marty   50 Mar 26 12:59 test.txt\\n'\n"
     ]
    }
   ],
   "source": [
    "# agrument capture_output gives output as bytes\n",
    "p1 = subprocess.run(['ls','-la'], capture_output=True)\n",
    "\n",
    "print(p1.stdout)"
   ]
  },
  {
   "cell_type": "code",
   "execution_count": 12,
   "metadata": {},
   "outputs": [
    {
     "output_type": "stream",
     "name": "stdout",
     "text": [
      "total 48\ndrwxrwxr-x 8 marty marty 4096 Apr 17 10:36 .\ndrwxrwxr-x 8 marty marty 4096 Mar 27 18:16 ..\ndrwxrwxr-x 4 marty marty 4096 Apr  3 15:06 cli_2\ndrwxrwxr-x 3 marty marty 4096 Apr 17 10:36 cli_3\ndrwxrwxr-x 8 marty marty 4096 Apr  3 14:49 .git\ndrwxrwxr-x 2 marty marty 4096 Apr 17 10:36 .ipynb_checkpoints\ndrwxrwxr-x 2 marty marty 4096 Mar 26 11:22 No1\n-rw-rw-r-- 1 marty marty  492 Mar 26 13:02 output.txt\ndrwxrwxr-x 2 marty marty 4096 Mar 26 11:22 SubprocessModule\n-rw-rw-r-- 1 marty marty 6366 Apr 17 10:39 subprocess_practice.ipynb\n-rw-rw-r-- 1 marty marty   50 Mar 26 12:59 test.txt\n\n"
     ]
    }
   ],
   "source": [
    "# thats how to decode it - or next down\n",
    "print(p1.stdout.decode())"
   ]
  },
  {
   "cell_type": "code",
   "execution_count": 13,
   "metadata": {},
   "outputs": [
    {
     "output_type": "stream",
     "name": "stdout",
     "text": [
      "total 48\ndrwxrwxr-x 8 marty marty 4096 Apr 17 10:36 .\ndrwxrwxr-x 8 marty marty 4096 Mar 27 18:16 ..\ndrwxrwxr-x 4 marty marty 4096 Apr  3 15:06 cli_2\ndrwxrwxr-x 3 marty marty 4096 Apr 17 10:36 cli_3\ndrwxrwxr-x 8 marty marty 4096 Apr  3 14:49 .git\ndrwxrwxr-x 2 marty marty 4096 Apr 17 10:36 .ipynb_checkpoints\ndrwxrwxr-x 2 marty marty 4096 Mar 26 11:22 No1\n-rw-rw-r-- 1 marty marty  492 Mar 26 13:02 output.txt\ndrwxrwxr-x 2 marty marty 4096 Mar 26 11:22 SubprocessModule\n-rw-rw-r-- 1 marty marty 6366 Apr 17 10:39 subprocess_practice.ipynb\n-rw-rw-r-- 1 marty marty   50 Mar 26 12:59 test.txt\n\n"
     ]
    }
   ],
   "source": [
    "# agrument capture_output gives decoded output\n",
    "p1 = subprocess.run(['ls','-la'], capture_output=True, text=True)\n",
    "\n",
    "print(p1.stdout)"
   ]
  },
  {
   "cell_type": "code",
   "execution_count": 13,
   "metadata": {},
   "outputs": [],
   "source": [
    "# this is how agruments are captured and redirectd to a file\n",
    "with open('output.txt', 'w')as f:\n",
    "    p1 = subprocess.run(['ls','-la'], stdout=f, text=True)"
   ]
  },
  {
   "cell_type": "code",
   "execution_count": 14,
   "metadata": {},
   "outputs": [
    {
     "output_type": "stream",
     "name": "stdout",
     "text": [
      "this is \njust \nsome \ntext\nthat\nI am \ngoing to \nrun\n"
     ]
    }
   ],
   "source": [
    "# this is how to run cat on some file\n",
    "p2 = subprocess.run(['cat', 'test.txt'], capture_output=True, text=True) \n",
    "print(p2.stdout)"
   ]
  },
  {
   "cell_type": "code",
   "execution_count": 23,
   "metadata": {},
   "outputs": [
    {
     "output_type": "stream",
     "name": "stdout",
     "text": [
      "4:text\n\n"
     ]
    }
   ],
   "source": [
    "# this is how to use previous input for further processing with grep\n",
    "p2 = subprocess.run(['cat', 'test.txt'], capture_output=True, text=True) \n",
    "p3 = subprocess.run(['grep', '-n', 'text',], capture_output=True, text=True, input=p2.stdout) \n",
    "print(p3.stdout)"
   ]
  },
  {
   "cell_type": "code",
   "execution_count": 26,
   "metadata": {},
   "outputs": [
    {
     "output_type": "stream",
     "name": "stdout",
     "text": [
      "4:text\n\n"
     ]
    }
   ],
   "source": [
    "# using 'shell=True' argument you can use full cli command as in terminal like below\n",
    "p2 = subprocess.run(['cat test.txt | grep -n text'], capture_output=True, text=True, shell=True) \n",
    "print(p2.stdout)\n",
    "# output is the same but shell=True is not safe? check why "
   ]
  },
  {
   "cell_type": "code",
   "execution_count": null,
   "metadata": {},
   "outputs": [],
   "source": []
  }
 ]
}