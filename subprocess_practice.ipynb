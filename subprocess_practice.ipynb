{
 "metadata": {
  "language_info": {
   "codemirror_mode": {
    "name": "ipython",
    "version": 3
   },
   "file_extension": ".py",
   "mimetype": "text/x-python",
   "name": "python",
   "nbconvert_exporter": "python",
   "pygments_lexer": "ipython3",
   "version": "3.8.5"
  },
  "orig_nbformat": 2,
  "kernelspec": {
   "name": "python38564bitd3cc4aec1bfc45cc82b9b4c5802663c0",
   "display_name": "Python 3.8.5 64-bit"
  },
  "metadata": {
   "interpreter": {
    "hash": "916dbcbb3f70747c44a77c7bcd40155683ae19c65e1c03b4aa3499c5328201f1"
   }
  }
 },
 "nbformat": 4,
 "nbformat_minor": 2,
 "cells": [
  {
   "cell_type": "code",
   "execution_count": null,
   "metadata": {},
   "outputs": [],
   "source": [
    "# some older way to what is presnted below - like os.system itp\n",
    "\n"
   ]
  },
  {
   "cell_type": "code",
   "execution_count": null,
   "metadata": {},
   "outputs": [],
   "source": [
    "# os.SystemError\n",
    "\n"
   ]
  },
  {
   "cell_type": "code",
   "execution_count": 1,
   "metadata": {},
   "outputs": [
    {
     "output_type": "stream",
     "name": "stdout",
     "text": [
      "CompletedProcess(args=['ls', '-la'], returncode=0)\n"
     ]
    }
   ],
   "source": [
    "# this notebook is about subprocess library \n",
    "# original docs - https://docs.python.org/3/library/subprocess.html\n",
    "# tutorials : - https://www.youtube.com/watch?v=2Fp1N6dof0Y\n",
    "#             - https://pythonspot.com/python-subprocess/\n",
    "#      ****   - https://www.youtube.com/watch?v=IIiKVaxHCX0      \n",
    "\n",
    "\n",
    "\n",
    "import subprocess\n",
    "\n",
    "s = subprocess.run(['ls', '-la'])\n",
    "\n",
    "print(s)\n",
    "\n"
   ]
  },
  {
   "cell_type": "code",
   "execution_count": 2,
   "metadata": {},
   "outputs": [
    {
     "output_type": "stream",
     "name": "stdout",
     "text": [
      "b'/home/marty/Desktop/VSCodeGitRepos/CLI_Project1\\n'\n"
     ]
    }
   ],
   "source": [
    "p1 = subprocess.run(['pwd'], capture_output=True)\n",
    "\n",
    "print(p1.stdout)\n"
   ]
  },
  {
   "cell_type": "code",
   "execution_count": 3,
   "metadata": {},
   "outputs": [
    {
     "output_type": "stream",
     "name": "stdout",
     "text": [
      "b'total 56\\ndrwxrwxr-x 10 marty marty 4096 Apr 29 06:54 .\\ndrwxrwxr-x  8 marty marty 4096 Mar 27 18:16 ..\\ndrwxrwxr-x  2 marty marty 4096 Apr 23 19:40 basics\\ndrwxrwxr-x  4 marty marty 4096 Apr  3 15:06 cli_2\\ndrwxrwxr-x  3 marty marty 4096 Apr 17 10:36 cli_3\\ndrwxrwxr-x  2 marty marty 4096 Apr 25 17:48 Click_Tutorial\\ndrwxrwxr-x  8 marty marty 4096 Apr 25 18:12 .git\\ndrwxrwxr-x  2 marty marty 4096 Apr 29 06:54 .ipynb_checkpoints\\ndrwxrwxr-x  2 marty marty 4096 Mar 26 11:22 No1\\n-rw-rw-r--  1 marty marty  492 Mar 26 13:02 output.txt\\ndrwxrwxr-x  2 marty marty 4096 Mar 26 11:22 SubprocessModule\\n-rw-rw-r--  1 marty marty 6834 Apr 22 09:31 subprocess_practice.ipynb\\n-rw-rw-r--  1 marty marty   50 Mar 26 12:59 test.txt\\n'\n"
     ]
    }
   ],
   "source": [
    "# agrument capture_output gives output as bytes\n",
    "p1 = subprocess.run(['ls','-la'], capture_output=True)\n",
    "\n",
    "print(p1.stdout)"
   ]
  },
  {
   "cell_type": "code",
   "execution_count": 12,
   "metadata": {},
   "outputs": [
    {
     "output_type": "stream",
     "name": "stdout",
     "text": [
      "total 48\ndrwxrwxr-x 8 marty marty 4096 Apr 17 10:36 .\ndrwxrwxr-x 8 marty marty 4096 Mar 27 18:16 ..\ndrwxrwxr-x 4 marty marty 4096 Apr  3 15:06 cli_2\ndrwxrwxr-x 3 marty marty 4096 Apr 17 10:36 cli_3\ndrwxrwxr-x 8 marty marty 4096 Apr  3 14:49 .git\ndrwxrwxr-x 2 marty marty 4096 Apr 17 10:36 .ipynb_checkpoints\ndrwxrwxr-x 2 marty marty 4096 Mar 26 11:22 No1\n-rw-rw-r-- 1 marty marty  492 Mar 26 13:02 output.txt\ndrwxrwxr-x 2 marty marty 4096 Mar 26 11:22 SubprocessModule\n-rw-rw-r-- 1 marty marty 6366 Apr 17 10:39 subprocess_practice.ipynb\n-rw-rw-r-- 1 marty marty   50 Mar 26 12:59 test.txt\n\n"
     ]
    }
   ],
   "source": [
    "# thats how to decode it - or next down\n",
    "print(p1.stdout.decode())"
   ]
  },
  {
   "cell_type": "code",
   "execution_count": 13,
   "metadata": {},
   "outputs": [
    {
     "output_type": "stream",
     "name": "stdout",
     "text": [
      "total 48\ndrwxrwxr-x 8 marty marty 4096 Apr 17 10:36 .\ndrwxrwxr-x 8 marty marty 4096 Mar 27 18:16 ..\ndrwxrwxr-x 4 marty marty 4096 Apr  3 15:06 cli_2\ndrwxrwxr-x 3 marty marty 4096 Apr 17 10:36 cli_3\ndrwxrwxr-x 8 marty marty 4096 Apr  3 14:49 .git\ndrwxrwxr-x 2 marty marty 4096 Apr 17 10:36 .ipynb_checkpoints\ndrwxrwxr-x 2 marty marty 4096 Mar 26 11:22 No1\n-rw-rw-r-- 1 marty marty  492 Mar 26 13:02 output.txt\ndrwxrwxr-x 2 marty marty 4096 Mar 26 11:22 SubprocessModule\n-rw-rw-r-- 1 marty marty 6366 Apr 17 10:39 subprocess_practice.ipynb\n-rw-rw-r-- 1 marty marty   50 Mar 26 12:59 test.txt\n\n"
     ]
    }
   ],
   "source": [
    "# agrument capture_output gives decoded output\n",
    "p1 = subprocess.run(['ls','-la'], capture_output=True, text=True)\n",
    "\n",
    "print(p1.stdout)"
   ]
  },
  {
   "cell_type": "code",
   "execution_count": 13,
   "metadata": {},
   "outputs": [],
   "source": [
    "# this is how agruments are captured and redirectd to a file\n",
    "with open('output.txt', 'w')as f:\n",
    "    p1 = subprocess.run(['ls','-la'], stdout=f, text=True)"
   ]
  },
  {
   "cell_type": "code",
   "execution_count": 14,
   "metadata": {},
   "outputs": [
    {
     "output_type": "stream",
     "name": "stdout",
     "text": [
      "this is \njust \nsome \ntext\nthat\nI am \ngoing to \nrun\n"
     ]
    }
   ],
   "source": [
    "# this is how to run cat on some file\n",
    "p2 = subprocess.run(['cat', 'test.txt'], capture_output=True, text=True) \n",
    "print(p2.stdout)"
   ]
  },
  {
   "cell_type": "code",
   "execution_count": 23,
   "metadata": {},
   "outputs": [
    {
     "output_type": "stream",
     "name": "stdout",
     "text": [
      "4:text\n\n"
     ]
    }
   ],
   "source": [
    "# this is how to use previous input for further processing with grep\n",
    "p2 = subprocess.run(['cat', 'test.txt'], capture_output=True, text=True) \n",
    "p3 = subprocess.run(['grep', '-n', 'text',], capture_output=True, text=True, input=p2.stdout) \n",
    "print(p3.stdout)"
   ]
  },
  {
   "cell_type": "code",
   "execution_count": 26,
   "metadata": {},
   "outputs": [
    {
     "output_type": "stream",
     "name": "stdout",
     "text": [
      "4:text\n\n"
     ]
    }
   ],
   "source": [
    "# using 'shell=True' argument you can use full cli command as in terminal like below\n",
    "p2 = subprocess.run(['cat test.txt | grep -n text'], capture_output=True, text=True, shell=True) \n",
    "print(p2.stdout)\n",
    "# output is the same but shell=True is not safe? check why "
   ]
  },
  {
   "cell_type": "code",
   "execution_count": null,
   "metadata": {},
   "outputs": [],
   "source": []
  }
 ]
}